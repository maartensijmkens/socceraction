{
 "cells": [
  {
   "cell_type": "markdown",
   "metadata": {},
   "source": [
    "**Disclaimer**: this notebook's compatibility with StatsBomb event data 4.0.0 was last checked on June 15th, 2020"
   ]
  },
  {
   "cell_type": "code",
   "execution_count": 1,
   "metadata": {},
   "outputs": [
    {
     "name": "stdout",
     "output_type": "stream",
     "text": [
      "The history saving thread hit an unexpected error (DatabaseError('database disk image is malformed',)).History will not be written to the database.\n"
     ]
    }
   ],
   "source": [
    "%load_ext autoreload\n",
    "%autoreload 2\n",
    "import os;\n",
    "import warnings\n",
    "import pandas as pd\n",
    "warnings.simplefilter(action='ignore', category=pd.errors.PerformanceWarning)\n",
    "import tqdm"
   ]
  },
  {
   "cell_type": "code",
   "execution_count": 2,
   "metadata": {},
   "outputs": [],
   "source": [
    "import socceraction.spadl as spadl\n",
    "import socceraction.spadl.statsbomb as statsbomb"
   ]
  },
  {
   "cell_type": "markdown",
   "metadata": {},
   "source": [
    "## Set up the statsbombloader"
   ]
  },
  {
   "cell_type": "code",
   "execution_count": 3,
   "metadata": {},
   "outputs": [],
   "source": [
    "# Use this if you only want to use the free public statsbomb data\n",
    "free_open_data_remote = \"https://raw.githubusercontent.com/statsbomb/open-data/master/data/\"\n",
    "SBL = statsbomb.StatsBombLoader(root=free_open_data_remote,getter=\"remote\")\n",
    "\n",
    "# # Uncomment the code below if you have a local folder on your computer with statsbomb data\n",
    "# datafolder = \"../data/statsbomb-epl-1718\" # Example of local folder with statsbomb data\n",
    "# SBL = StatsBombLoader(root=datafolder,getter=\"local\")"
   ]
  },
  {
   "cell_type": "markdown",
   "metadata": {},
   "source": [
    "## Select competitions to load and convert"
   ]
  },
  {
   "cell_type": "code",
   "execution_count": 4,
   "metadata": {},
   "outputs": [
    {
     "data": {
      "text/plain": [
       "{'Champions League',\n",
       " \"FA Women's Super League\",\n",
       " 'FIFA World Cup',\n",
       " 'La Liga',\n",
       " 'NWSL',\n",
       " 'Premier League',\n",
       " \"Women's World Cup\"}"
      ]
     },
     "execution_count": 4,
     "metadata": {},
     "output_type": "execute_result"
    }
   ],
   "source": [
    "# View all available competitions\n",
    "competitions = SBL.competitions()\n",
    "set(competitions.competition_name)"
   ]
  },
  {
   "cell_type": "code",
   "execution_count": 5,
   "metadata": {},
   "outputs": [
    {
     "data": {
      "text/html": [
       "<div>\n",
       "<style scoped>\n",
       "    .dataframe tbody tr th:only-of-type {\n",
       "        vertical-align: middle;\n",
       "    }\n",
       "\n",
       "    .dataframe tbody tr th {\n",
       "        vertical-align: top;\n",
       "    }\n",
       "\n",
       "    .dataframe thead th {\n",
       "        text-align: right;\n",
       "    }\n",
       "</style>\n",
       "<table border=\"1\" class=\"dataframe\">\n",
       "  <thead>\n",
       "    <tr style=\"text-align: right;\">\n",
       "      <th></th>\n",
       "      <th>competition_id</th>\n",
       "      <th>season_id</th>\n",
       "      <th>country_name</th>\n",
       "      <th>competition_name</th>\n",
       "      <th>competition_gender</th>\n",
       "      <th>season_name</th>\n",
       "      <th>match_updated</th>\n",
       "      <th>match_available</th>\n",
       "    </tr>\n",
       "  </thead>\n",
       "  <tbody>\n",
       "    <tr>\n",
       "      <th>17</th>\n",
       "      <td>43</td>\n",
       "      <td>3</td>\n",
       "      <td>International</td>\n",
       "      <td>FIFA World Cup</td>\n",
       "      <td>male</td>\n",
       "      <td>2018</td>\n",
       "      <td>2019-12-16T23:09:16.168756</td>\n",
       "      <td>2019-12-16T23:09:16.168756</td>\n",
       "    </tr>\n",
       "  </tbody>\n",
       "</table>\n",
       "</div>"
      ],
      "text/plain": [
       "    competition_id  season_id   country_name competition_name  \\\n",
       "17              43          3  International   FIFA World Cup   \n",
       "\n",
       "   competition_gender season_name               match_updated  \\\n",
       "17               male        2018  2019-12-16T23:09:16.168756   \n",
       "\n",
       "               match_available  \n",
       "17  2019-12-16T23:09:16.168756  "
      ]
     },
     "execution_count": 5,
     "metadata": {},
     "output_type": "execute_result"
    }
   ],
   "source": [
    "# Fifa world cup\n",
    "selected_competitions = competitions[competitions.competition_name==\"FIFA World Cup\"]\n",
    "\n",
    "# # Messi data\n",
    "# selected_competitions = competitions[competitions.competition_name==\"La Liga\"]\n",
    "\n",
    "# # FA Women's Super League\n",
    "# selected_competitions = competitions[competitions.competition_name==\"FA Women's Super League\"]\n",
    "\n",
    "selected_competitions"
   ]
  },
  {
   "cell_type": "code",
   "execution_count": 6,
   "metadata": {
    "scrolled": true
   },
   "outputs": [
    {
     "data": {
      "text/html": [
       "<div>\n",
       "<style scoped>\n",
       "    .dataframe tbody tr th:only-of-type {\n",
       "        vertical-align: middle;\n",
       "    }\n",
       "\n",
       "    .dataframe tbody tr th {\n",
       "        vertical-align: top;\n",
       "    }\n",
       "\n",
       "    .dataframe thead th {\n",
       "        text-align: right;\n",
       "    }\n",
       "</style>\n",
       "<table border=\"1\" class=\"dataframe\">\n",
       "  <thead>\n",
       "    <tr style=\"text-align: right;\">\n",
       "      <th></th>\n",
       "      <th>home_team_name</th>\n",
       "      <th>away_team_name</th>\n",
       "      <th>match_date</th>\n",
       "      <th>home_score</th>\n",
       "      <th>away_score</th>\n",
       "    </tr>\n",
       "  </thead>\n",
       "  <tbody>\n",
       "    <tr>\n",
       "      <th>0</th>\n",
       "      <td>Croatia</td>\n",
       "      <td>Denmark</td>\n",
       "      <td>2018-07-01</td>\n",
       "      <td>1</td>\n",
       "      <td>1</td>\n",
       "    </tr>\n",
       "    <tr>\n",
       "      <th>1</th>\n",
       "      <td>Australia</td>\n",
       "      <td>Peru</td>\n",
       "      <td>2018-06-26</td>\n",
       "      <td>0</td>\n",
       "      <td>2</td>\n",
       "    </tr>\n",
       "    <tr>\n",
       "      <th>2</th>\n",
       "      <td>Nigeria</td>\n",
       "      <td>Iceland</td>\n",
       "      <td>2018-06-22</td>\n",
       "      <td>2</td>\n",
       "      <td>0</td>\n",
       "    </tr>\n",
       "    <tr>\n",
       "      <th>3</th>\n",
       "      <td>Serbia</td>\n",
       "      <td>Brazil</td>\n",
       "      <td>2018-06-27</td>\n",
       "      <td>0</td>\n",
       "      <td>2</td>\n",
       "    </tr>\n",
       "    <tr>\n",
       "      <th>4</th>\n",
       "      <td>Iran</td>\n",
       "      <td>Portugal</td>\n",
       "      <td>2018-06-25</td>\n",
       "      <td>1</td>\n",
       "      <td>1</td>\n",
       "    </tr>\n",
       "    <tr>\n",
       "      <th>...</th>\n",
       "      <td>...</td>\n",
       "      <td>...</td>\n",
       "      <td>...</td>\n",
       "      <td>...</td>\n",
       "      <td>...</td>\n",
       "    </tr>\n",
       "    <tr>\n",
       "      <th>59</th>\n",
       "      <td>Colombia</td>\n",
       "      <td>Japan</td>\n",
       "      <td>2018-06-19</td>\n",
       "      <td>1</td>\n",
       "      <td>2</td>\n",
       "    </tr>\n",
       "    <tr>\n",
       "      <th>60</th>\n",
       "      <td>Japan</td>\n",
       "      <td>Poland</td>\n",
       "      <td>2018-06-28</td>\n",
       "      <td>0</td>\n",
       "      <td>1</td>\n",
       "    </tr>\n",
       "    <tr>\n",
       "      <th>61</th>\n",
       "      <td>Denmark</td>\n",
       "      <td>Australia</td>\n",
       "      <td>2018-06-21</td>\n",
       "      <td>1</td>\n",
       "      <td>1</td>\n",
       "    </tr>\n",
       "    <tr>\n",
       "      <th>62</th>\n",
       "      <td>Spain</td>\n",
       "      <td>Russia</td>\n",
       "      <td>2018-07-01</td>\n",
       "      <td>1</td>\n",
       "      <td>1</td>\n",
       "    </tr>\n",
       "    <tr>\n",
       "      <th>63</th>\n",
       "      <td>Croatia</td>\n",
       "      <td>England</td>\n",
       "      <td>2018-07-11</td>\n",
       "      <td>2</td>\n",
       "      <td>1</td>\n",
       "    </tr>\n",
       "  </tbody>\n",
       "</table>\n",
       "<p>64 rows × 5 columns</p>\n",
       "</div>"
      ],
      "text/plain": [
       "   home_team_name away_team_name  match_date  home_score  away_score\n",
       "0         Croatia        Denmark  2018-07-01           1           1\n",
       "1       Australia           Peru  2018-06-26           0           2\n",
       "2         Nigeria        Iceland  2018-06-22           2           0\n",
       "3          Serbia         Brazil  2018-06-27           0           2\n",
       "4            Iran       Portugal  2018-06-25           1           1\n",
       "..            ...            ...         ...         ...         ...\n",
       "59       Colombia          Japan  2018-06-19           1           2\n",
       "60          Japan         Poland  2018-06-28           0           1\n",
       "61        Denmark      Australia  2018-06-21           1           1\n",
       "62          Spain         Russia  2018-07-01           1           1\n",
       "63        Croatia        England  2018-07-11           2           1\n",
       "\n",
       "[64 rows x 5 columns]"
      ]
     },
     "execution_count": 6,
     "metadata": {},
     "output_type": "execute_result"
    }
   ],
   "source": [
    "# Get matches from all selected competitions\n",
    "matches = list(\n",
    "    SBL.matches(row.competition_id, row.season_id)\n",
    "    for row in selected_competitions.itertuples()\n",
    ")\n",
    "matches = pd.concat(matches, sort=True).reset_index(drop=True)\n",
    "matches[[\"home_team_name\",\"away_team_name\",\"match_date\",\"home_score\",\"away_score\"]]"
   ]
  },
  {
   "cell_type": "markdown",
   "metadata": {},
   "source": [
    "## Load and convert match data"
   ]
  },
  {
   "cell_type": "code",
   "execution_count": 7,
   "metadata": {},
   "outputs": [
    {
     "name": "stderr",
     "output_type": "stream",
     "text": [
      "Loading match data: 100%|██████████| 64/64 [03:17<00:00,  3.09s/it]\n"
     ]
    }
   ],
   "source": [
    "matches_verbose = tqdm.tqdm(list(matches.itertuples()),desc=\"Loading match data\")\n",
    "teams,players,player_games = [],[],[]\n",
    "actions = {}\n",
    "for match in matches_verbose:\n",
    "    # load data\n",
    "    teams.append(SBL.teams(match.match_id))\n",
    "    players.append(SBL.players(match.match_id))\n",
    "    events = SBL.events(match.match_id)\n",
    "    \n",
    "    # convert data\n",
    "    player_games.append(statsbomb.extract_player_games(events))\n",
    "    actions[match.match_id] = statsbomb.convert_to_actions(events,match.home_team_id)\n",
    "\n",
    "games = matches.rename(columns={\"match_id\":\"game_id\"})\n",
    "teams = pd.concat(teams).drop_duplicates(\"team_id\").reset_index(drop=True)\n",
    "players = pd.concat(players).drop_duplicates(\"player_id\").reset_index(drop=True)\n",
    "player_games = pd.concat(player_games).reset_index(drop=True)"
   ]
  },
  {
   "cell_type": "markdown",
   "metadata": {},
   "source": [
    "## Store converted spadl data in a h5-file"
   ]
  },
  {
   "cell_type": "code",
   "execution_count": 8,
   "metadata": {
    "scrolled": true
   },
   "outputs": [],
   "source": [
    "datafolder = \"../data-fifa\"\n",
    "\n",
    "# Create data folder if it doesn't exist\n",
    "if not os.path.exists(datafolder):\n",
    "    os.mkdir(datafolder)\n",
    "    print(f\"Directory {datafolder} created \")\n",
    "\n",
    "spadl_h5 = os.path.join(datafolder, \"spadl-statsbomb.h5\")\n",
    "\n",
    "# Store all spadl data in h5-file\n",
    "with pd.HDFStore(spadl_h5) as spadlstore:\n",
    "    spadlstore[\"competitions\"] = selected_competitions\n",
    "    spadlstore[\"games\"] = games\n",
    "    spadlstore[\"teams\"] = teams\n",
    "    spadlstore[\"players\"] = players\n",
    "    spadlstore[\"player_games\"] = player_games\n",
    "    for game_id in actions.keys():\n",
    "        spadlstore[f\"actions/game_{game_id}\"] = actions[game_id]\n",
    "        \n",
    "    spadlstore[\"actiontypes\"] = spadl.actiontypes_df()\n",
    "    spadlstore[\"results\"] = spadl.results_df()\n",
    "    spadlstore[\"bodyparts\"] = spadl.bodyparts_df()"
   ]
  },
  {
   "cell_type": "markdown",
   "metadata": {},
   "source": [
    "## Plot the spadl data\n",
    "Extra library required: ```pip install matplotsoccer```"
   ]
  },
  {
   "cell_type": "code",
   "execution_count": 9,
   "metadata": {},
   "outputs": [
    {
     "data": {
      "text/html": [
       "<div>\n",
       "<style scoped>\n",
       "    .dataframe tbody tr th:only-of-type {\n",
       "        vertical-align: middle;\n",
       "    }\n",
       "\n",
       "    .dataframe tbody tr th {\n",
       "        vertical-align: top;\n",
       "    }\n",
       "\n",
       "    .dataframe thead th {\n",
       "        text-align: right;\n",
       "    }\n",
       "</style>\n",
       "<table border=\"1\" class=\"dataframe\">\n",
       "  <thead>\n",
       "    <tr style=\"text-align: right;\">\n",
       "      <th></th>\n",
       "      <th>game_id</th>\n",
       "      <th>period_id</th>\n",
       "      <th>time_seconds</th>\n",
       "      <th>timestamp</th>\n",
       "      <th>team_id</th>\n",
       "      <th>player_id</th>\n",
       "      <th>start_x</th>\n",
       "      <th>start_y</th>\n",
       "      <th>end_x</th>\n",
       "      <th>end_y</th>\n",
       "      <th>...</th>\n",
       "      <th>result_name</th>\n",
       "      <th>bodypart_name</th>\n",
       "      <th>player_name</th>\n",
       "      <th>player_nickname</th>\n",
       "      <th>jersey_number</th>\n",
       "      <th>country_id</th>\n",
       "      <th>country_name</th>\n",
       "      <th>extra</th>\n",
       "      <th>team_name</th>\n",
       "      <th>player</th>\n",
       "    </tr>\n",
       "  </thead>\n",
       "  <tbody>\n",
       "    <tr>\n",
       "      <th>0</th>\n",
       "      <td>8657</td>\n",
       "      <td>1</td>\n",
       "      <td>0.0</td>\n",
       "      <td>00:00:00.533</td>\n",
       "      <td>782</td>\n",
       "      <td>3289</td>\n",
       "      <td>52.941176</td>\n",
       "      <td>33.569620</td>\n",
       "      <td>44.117647</td>\n",
       "      <td>33.569620</td>\n",
       "      <td>...</td>\n",
       "      <td>success</td>\n",
       "      <td>foot</td>\n",
       "      <td>Romelu Lukaku Menama</td>\n",
       "      <td>Romelu Lukaku</td>\n",
       "      <td>9</td>\n",
       "      <td>22</td>\n",
       "      <td>Belgium</td>\n",
       "      <td>{}</td>\n",
       "      <td>Belgium</td>\n",
       "      <td>Romelu Lukaku</td>\n",
       "    </tr>\n",
       "    <tr>\n",
       "      <th>1</th>\n",
       "      <td>8657</td>\n",
       "      <td>1</td>\n",
       "      <td>1.0</td>\n",
       "      <td>00:00:01.252</td>\n",
       "      <td>782</td>\n",
       "      <td>5642</td>\n",
       "      <td>44.117647</td>\n",
       "      <td>33.569620</td>\n",
       "      <td>44.117647</td>\n",
       "      <td>34.430380</td>\n",
       "      <td>...</td>\n",
       "      <td>success</td>\n",
       "      <td>foot</td>\n",
       "      <td>Axel Witsel</td>\n",
       "      <td>None</td>\n",
       "      <td>6</td>\n",
       "      <td>22</td>\n",
       "      <td>Belgium</td>\n",
       "      <td>{}</td>\n",
       "      <td>Belgium</td>\n",
       "      <td>Axel Witsel</td>\n",
       "    </tr>\n",
       "    <tr>\n",
       "      <th>2</th>\n",
       "      <td>8657</td>\n",
       "      <td>1</td>\n",
       "      <td>2.0</td>\n",
       "      <td>00:00:02.133</td>\n",
       "      <td>782</td>\n",
       "      <td>5642</td>\n",
       "      <td>44.117647</td>\n",
       "      <td>34.430380</td>\n",
       "      <td>31.764706</td>\n",
       "      <td>53.367089</td>\n",
       "      <td>...</td>\n",
       "      <td>success</td>\n",
       "      <td>foot</td>\n",
       "      <td>Axel Witsel</td>\n",
       "      <td>None</td>\n",
       "      <td>6</td>\n",
       "      <td>22</td>\n",
       "      <td>Belgium</td>\n",
       "      <td>{}</td>\n",
       "      <td>Belgium</td>\n",
       "      <td>Axel Witsel</td>\n",
       "    </tr>\n",
       "    <tr>\n",
       "      <th>3</th>\n",
       "      <td>8657</td>\n",
       "      <td>1</td>\n",
       "      <td>3.0</td>\n",
       "      <td>00:00:03.732</td>\n",
       "      <td>782</td>\n",
       "      <td>3077</td>\n",
       "      <td>31.764706</td>\n",
       "      <td>53.367089</td>\n",
       "      <td>28.235294</td>\n",
       "      <td>53.367089</td>\n",
       "      <td>...</td>\n",
       "      <td>success</td>\n",
       "      <td>foot</td>\n",
       "      <td>Jan Vertonghen</td>\n",
       "      <td>None</td>\n",
       "      <td>5</td>\n",
       "      <td>22</td>\n",
       "      <td>Belgium</td>\n",
       "      <td>{}</td>\n",
       "      <td>Belgium</td>\n",
       "      <td>Jan Vertonghen</td>\n",
       "    </tr>\n",
       "    <tr>\n",
       "      <th>4</th>\n",
       "      <td>8657</td>\n",
       "      <td>1</td>\n",
       "      <td>4.0</td>\n",
       "      <td>00:00:04.933</td>\n",
       "      <td>782</td>\n",
       "      <td>3077</td>\n",
       "      <td>28.235294</td>\n",
       "      <td>53.367089</td>\n",
       "      <td>23.823529</td>\n",
       "      <td>38.734177</td>\n",
       "      <td>...</td>\n",
       "      <td>success</td>\n",
       "      <td>foot</td>\n",
       "      <td>Jan Vertonghen</td>\n",
       "      <td>None</td>\n",
       "      <td>5</td>\n",
       "      <td>22</td>\n",
       "      <td>Belgium</td>\n",
       "      <td>{}</td>\n",
       "      <td>Belgium</td>\n",
       "      <td>Jan Vertonghen</td>\n",
       "    </tr>\n",
       "  </tbody>\n",
       "</table>\n",
       "<p>5 rows × 25 columns</p>\n",
       "</div>"
      ],
      "text/plain": [
       "   game_id  period_id  time_seconds     timestamp  team_id  player_id  \\\n",
       "0     8657          1           0.0  00:00:00.533      782       3289   \n",
       "1     8657          1           1.0  00:00:01.252      782       5642   \n",
       "2     8657          1           2.0  00:00:02.133      782       5642   \n",
       "3     8657          1           3.0  00:00:03.732      782       3077   \n",
       "4     8657          1           4.0  00:00:04.933      782       3077   \n",
       "\n",
       "     start_x    start_y      end_x      end_y  ...  result_name  \\\n",
       "0  52.941176  33.569620  44.117647  33.569620  ...      success   \n",
       "1  44.117647  33.569620  44.117647  34.430380  ...      success   \n",
       "2  44.117647  34.430380  31.764706  53.367089  ...      success   \n",
       "3  31.764706  53.367089  28.235294  53.367089  ...      success   \n",
       "4  28.235294  53.367089  23.823529  38.734177  ...      success   \n",
       "\n",
       "   bodypart_name           player_name  player_nickname jersey_number  \\\n",
       "0           foot  Romelu Lukaku Menama    Romelu Lukaku             9   \n",
       "1           foot           Axel Witsel             None             6   \n",
       "2           foot           Axel Witsel             None             6   \n",
       "3           foot        Jan Vertonghen             None             5   \n",
       "4           foot        Jan Vertonghen             None             5   \n",
       "\n",
       "  country_id country_name extra team_name          player  \n",
       "0         22      Belgium    {}   Belgium   Romelu Lukaku  \n",
       "1         22      Belgium    {}   Belgium     Axel Witsel  \n",
       "2         22      Belgium    {}   Belgium     Axel Witsel  \n",
       "3         22      Belgium    {}   Belgium  Jan Vertonghen  \n",
       "4         22      Belgium    {}   Belgium  Jan Vertonghen  \n",
       "\n",
       "[5 rows x 25 columns]"
      ]
     },
     "execution_count": 9,
     "metadata": {},
     "output_type": "execute_result"
    }
   ],
   "source": [
    "# Select England vs Belgium game at World Cup\n",
    "with pd.HDFStore(spadl_h5) as spadlstore:\n",
    "    games = spadlstore[\"games\"].merge(spadlstore[\"competitions\"])\n",
    "    game_id = games[(games.competition_name == \"FIFA World Cup\") \n",
    "                  & (games.away_team_name == \"England\")\n",
    "                  & (games.home_team_name == \"Belgium\")].game_id.values[0]\n",
    "    actions = spadlstore[f\"actions/game_{game_id}\"]\n",
    "    actions = (\n",
    "        actions.merge(spadlstore[\"actiontypes\"],how=\"left\")\n",
    "        .merge(spadlstore[\"results\"],how=\"left\")\n",
    "        .merge(spadlstore[\"bodyparts\"],how=\"left\")\n",
    "        .merge(spadlstore[\"players\"],how=\"left\")\n",
    "        .merge(spadlstore[\"teams\"],how=\"left\")\n",
    "    )\n",
    "\n",
    "# use nickname if available else use full name\n",
    "actions[\"player\"] = actions[[\"player_nickname\",\"player_name\"]].apply(lambda x: x[0] if x[0] else x[1],axis=1)\n",
    "actions[:5]"
   ]
  },
  {
   "cell_type": "code",
   "execution_count": 11,
   "metadata": {},
   "outputs": [
    {
     "name": "stdout",
     "output_type": "stream",
     "text": [
      "2018-07-14 Belgium 2-0 England 82'\n"
     ]
    },
    {
     "data": {
      "image/png": "[encoded data removed]",
      "text/plain": [
       "<Figure size 432x288 with 1 Axes>"
      ]
     },
     "metadata": {
      "needs_background": "light"
     },
     "output_type": "display_data"
    },
    {
     "data": {
      "image/png": "[encoded data removed]",
      "text/plain": [
       "<Figure size 432x381.115 with 1 Axes>"
      ]
     },
     "metadata": {
      "needs_background": "light"
     },
     "output_type": "display_data"
    }
   ],
   "source": [
    "import matplotsoccer\n",
    "\n",
    "shot = 2201\n",
    "a = actions[shot-4:shot+1].copy()\n",
    "\n",
    "g = list(games[games.game_id == a.game_id.values[0]].itertuples())[0]\n",
    "minute = int((a.period_id.values[0]-1)*45 +a.time_seconds.values[0] // 60)\n",
    "game_info = f\"{g.match_date} {g.home_team_name} {g.home_score}-{g.away_score} {g.away_team_name} {minute + 1}'\"\n",
    "print(game_info)\n",
    "\n",
    "def nice_time(row):\n",
    "    minute = int((row.period_id-1)*45 +row.time_seconds // 60)\n",
    "    second = int(row.time_seconds % 60)\n",
    "    return f\"{minute}m{second}s\"\n",
    "\n",
    "a[\"nice_time\"] = a.apply(nice_time,axis=1)\n",
    "labels = a[[\"nice_time\", \"type_name\", \"player\", \"team_name\"]]\n",
    "\n",
    "matplotsoccer.actions(\n",
    "    location=a[[\"start_x\", \"start_y\", \"end_x\", \"end_y\"]],\n",
    "    action_type=a.type_name,\n",
    "    team= a.team_name,\n",
    "    result= a.result_name == \"success\",\n",
    "    label=labels,\n",
    "    labeltitle=[\"time\",\"actiontype\",\"player\",\"team\"],\n",
    "    zoom=False,\n",
    "    figsize=6\n",
    ")\n",
    "matplotsoccer.actions(\n",
    "    location=a[[\"start_x\", \"start_y\", \"end_x\", \"end_y\"]],\n",
    "    action_type=a.type_name,\n",
    "    team=a.team_name,\n",
    "    result=a.result_name == \"success\",\n",
    "    label=labels,\n",
    "    labeltitle=[\"time\",\"actiontype\",\"player\",\"team\"],\n",
    "    zoom=True,\n",
    ")"
   ]
  }
 ],
 "metadata": {
  "kernelspec": {
   "display_name": "Python 3",
   "language": "python",
   "name": "python3"
  },
  "language_info": {
   "codemirror_mode": {
    "name": "ipython",
    "version": 3
   },
   "file_extension": ".py",
   "mimetype": "text/x-python",
   "name": "python",
   "nbconvert_exporter": "python",
   "pygments_lexer": "ipython3",
   "version": "3.7.8"
  },
  "varInspector": {
   "cols": {
    "lenName": 16,
    "lenType": 16,
    "lenVar": 40
   },
   "kernels_config": {
    "python": {
     "delete_cmd_postfix": "",
     "delete_cmd_prefix": "del ",
     "library": "var_list.py",
     "varRefreshCmd": "print(var_dic_list())"
    },
    "r": {
     "delete_cmd_postfix": ") ",
     "delete_cmd_prefix": "rm(",
     "library": "var_list.r",
     "varRefreshCmd": "cat(var_dic_list()) "
    }
   },
   "types_to_exclude": [
    "module",
    "function",
    "builtin_function_or_method",
    "instance",
    "_Feature"
   ],
   "window_display": false
  }
 },
 "nbformat": 4,
 "nbformat_minor": 2
}
