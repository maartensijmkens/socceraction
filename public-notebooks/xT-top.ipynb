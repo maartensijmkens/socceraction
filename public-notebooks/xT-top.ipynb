{
 "cells": [
  {
   "cell_type": "markdown",
   "metadata": {
    "pycharm": {
     "name": "#%% md\n"
    }
   },
   "source": [
    "Be sure to run the following notebook first before running this notebook:\n",
    "- 1-load-and-convert-statsbomb-data.ipynb"
   ]
  },
  {
   "cell_type": "code",
   "execution_count": 1,
   "metadata": {
    "pycharm": {
     "is_executing": false
    }
   },
   "outputs": [],
   "source": [
    "%load_ext autoreload\n",
    "%autoreload 2\n",
    "import os;\n",
    "\n",
    "import tqdm\n",
    "import pandas as pd\n",
    "import numpy as np\n",
    "import socceraction.vaep.features as fs\n",
    "import socceraction.xthreat as xthreat"
   ]
  },
  {
   "cell_type": "code",
   "execution_count": 2,
   "metadata": {
    "pycharm": {
     "is_executing": false
    }
   },
   "outputs": [],
   "source": [
    "## Configure file and folder names, use SPADL format.\n",
    "datafolder = \"../data-fifa\"\n",
    "spadl_h5 = os.path.join(datafolder,\"spadl-statsbomb.h5\")\n",
    "xT_h5 = os.path.join(datafolder, \"xT.h5\")"
   ]
  },
  {
   "cell_type": "code",
   "execution_count": 3,
   "metadata": {
    "pycharm": {
     "is_executing": false,
     "name": "#%%\n"
    }
   },
   "outputs": [
    {
     "name": "stdout",
     "output_type": "stream",
     "text": [
      "nb of games: 64\n"
     ]
    }
   ],
   "source": [
    "## Select games\n",
    "games = pd.read_hdf(spadl_h5,\"games\")\n",
    "games = games[games.competition_name == \"FIFA World Cup\"]\n",
    "print(\"nb of games:\", len(games))\n",
    "\n",
    "actiontypes = pd.read_hdf(spadl_h5, \"actiontypes\")\n",
    "bodyparts = pd.read_hdf(spadl_h5, \"bodyparts\")\n",
    "results = pd.read_hdf(spadl_h5, \"results\")\n",
    "players = pd.read_hdf(spadl_h5, \"players\")"
   ]
  },
  {
   "cell_type": "code",
   "execution_count": 4,
   "metadata": {
    "pycharm": {
     "is_executing": false,
     "name": "#%%\n"
    }
   },
   "outputs": [
    {
     "name": "stderr",
     "output_type": "stream",
     "text": [
      "100%|██████████████████████████████████████████████████████████████████████████████████| 64/64 [00:01<00:00, 38.80it/s]\n"
     ]
    }
   ],
   "source": [
    "## Read in all actions of games\n",
    "A = []\n",
    "\n",
    "for game in tqdm.tqdm(list(games.itertuples())):\n",
    "    actions = pd.read_hdf(spadl_h5,f\"actions/game_{game.game_id}\")\n",
    "    actions = (\n",
    "        actions.merge(actiontypes,how=\"left\")\n",
    "        .merge(results,how=\"left\")\n",
    "        .merge(bodyparts,how=\"left\")\n",
    "        #.sort_values([\"period_id\", \"time_seconds\", \"timestamp\"])\n",
    "        .reset_index(drop=True)\n",
    "    )\n",
    "    [actions] = fs.play_left_to_right([actions],game.home_team_id)\n",
    "        \n",
    "    A.append(actions) \n",
    "    \n",
    "A = pd.concat(A)"
   ]
  },
  {
   "cell_type": "code",
   "execution_count": 6,
   "metadata": {},
   "outputs": [
    {
     "data": {
      "text/plain": [
       "array([[0.5       , 1.        , 1.22222222, 2.10526316, 3.        ],\n",
       "       [0.5       , 0.85714286, 1.24390244, 2.        , 3.        ],\n",
       "       [0.6       , 0.83333333, 1.24285714, 1.875     , 2.8       ],\n",
       "       [0.81818182, 0.25925926, 1.26923077, 2.18518519, 2.54545455],\n",
       "       [0.47368421, 0.20833333, 1.30952381, 2.08333333, 2.63157895],\n",
       "       [0.3       , 0.3       , 1.25      , 2.1       , 2.8       ],\n",
       "       [0.3       , 0.32258065, 1.23076923, 2.09677419, 2.8       ],\n",
       "       [0.3       , 0.32258065, 1.19230769, 2.12903226, 2.8       ]])"
      ]
     },
     "execution_count": 6,
     "metadata": {},
     "output_type": "execute_result"
    }
   ],
   "source": [
    "import socceraction.xpoints as xpoints\n",
    "\n",
    "xPModel = xpoints.ExpectedPoints()\n",
    "xPModel.fit(A, games)\n",
    "xPModel.xpoints"
   ]
  },
  {
   "cell_type": "code",
   "execution_count": 7,
   "metadata": {
    "pycharm": {
     "is_executing": false,
     "name": "#%%\n"
    }
   },
   "outputs": [
    {
     "name": "stdout",
     "output_type": "stream",
     "text": [
      "# iterations:  45\n"
     ]
    },
    {
     "data": {
      "text/plain": [
       "<socceraction.xthreat.ExpectedThreat at 0x1df0fae7108>"
      ]
     },
     "execution_count": 7,
     "metadata": {},
     "output_type": "execute_result"
    }
   ],
   "source": [
    "## Train model\n",
    "xTModel = xthreat.ExpectedThreat(l=16, w=12)\n",
    "xTModel.fit(A)"
   ]
  },
  {
   "cell_type": "code",
   "execution_count": null,
   "metadata": {},
   "outputs": [
    {
     "name": "stderr",
     "output_type": "stream",
     "text": [
      " 20%|████████████████▋                                                                 | 13/64 [01:10<04:23,  5.17s/it]"
     ]
    }
   ],
   "source": [
    "## Predict\n",
    "\n",
    "# xT should only be used to value actions that move the ball \n",
    "# and also keep the current team in possession of the ball\n",
    "\n",
    "mov_actions = xthreat.get_successful_move_actions(A)\n",
    "\n",
    "# xP (expected points) if a team would score at \n",
    "# the current score and time of the action\n",
    "diff = xpoints.get_diff(mov_actions, A)\n",
    "xP = xPModel.predict(mov_actions, diff, diff+1)\n",
    "\n",
    "mov_actions[\"xT_value\"] = xTModel.predict(mov_actions, xP = xP)\n",
    "\n",
    "players_xT = (\n",
    "    mov_actions.groupby('player_id') \n",
    "    .agg({'xT_value': 'sum'}) \n",
    "    .sort_values(\"xT_value\", ascending=False) \n",
    "    .reset_index()\n",
    ")\n",
    "    \n",
    "players_xT.merge(players, how=\"left\")[[\"player_name\", \"xT_value\"]][:10]"
   ]
  },
  {
   "cell_type": "code",
   "execution_count": 229,
   "metadata": {},
   "outputs": [
    {
     "data": {
      "text/plain": [
       "(array([-0.55892256, -0.26535088,  0.        ,  0.02258065,  0.22222222,\n",
       "         0.23333333,  0.35714286,  0.36026936,  0.38675958,  0.40952381,\n",
       "         0.5       ,  0.54824561,  0.63214286,  0.67096774,  0.7       ,\n",
       "         0.70322581,  0.75609756,  0.77380952,  0.85      ,  0.86600496,\n",
       "         0.86972705,  0.88304094,  0.89473684,  0.90818859,  0.91595442,\n",
       "         0.925     ,  0.93672457,  0.95      ,  1.        ,  1.00997151,\n",
       "         1.10119048]),\n",
       " array([ 647,  597, 8483,  107, 2860,  833,  658, 2216, 3747, 3205,  538,\n",
       "        2118, 9293,   33, 2035,  149, 8295, 8535, 9967,  760,  111, 9662,\n",
       "        2240,  161, 8448, 2686,  695, 2855, 3097, 2909, 2445], dtype=int64))"
      ]
     },
     "execution_count": 229,
     "metadata": {},
     "output_type": "execute_result"
    }
   ],
   "source": [
    "np.unique(xP, return_counts=True)"
   ]
  }
 ],
 "metadata": {
  "kernelspec": {
   "display_name": "Python 3",
   "language": "python",
   "name": "python3"
  },
  "language_info": {
   "codemirror_mode": {
    "name": "ipython",
    "version": 3
   },
   "file_extension": ".py",
   "mimetype": "text/x-python",
   "name": "python",
   "nbconvert_exporter": "python",
   "pygments_lexer": "ipython3",
   "version": "3.7.8"
  },
  "pycharm": {
   "stem_cell": {
    "cell_type": "raw",
    "metadata": {
     "collapsed": false
    },
    "source": []
   }
  },
  "varInspector": {
   "cols": {
    "lenName": 16,
    "lenType": 16,
    "lenVar": 40
   },
   "kernels_config": {
    "python": {
     "delete_cmd_postfix": "",
     "delete_cmd_prefix": "del ",
     "library": "var_list.py",
     "varRefreshCmd": "print(var_dic_list())"
    },
    "r": {
     "delete_cmd_postfix": ") ",
     "delete_cmd_prefix": "rm(",
     "library": "var_list.r",
     "varRefreshCmd": "cat(var_dic_list()) "
    }
   },
   "types_to_exclude": [
    "module",
    "function",
    "builtin_function_or_method",
    "instance",
    "_Feature"
   ],
   "window_display": false
  }
 },
 "nbformat": 4,
 "nbformat_minor": 2
}
