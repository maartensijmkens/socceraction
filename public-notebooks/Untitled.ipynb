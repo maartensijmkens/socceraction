{
 "cells": [
  {
   "cell_type": "code",
   "execution_count": 1,
   "metadata": {
    "scrolled": true
   },
   "outputs": [],
   "source": [
    "%load_ext autoreload\n",
    "%autoreload 2\n",
    "import os;\n",
    "\n",
    "import tqdm\n",
    "import pandas as pd\n",
    "import numpy as np\n",
    "import socceraction.vaep.features as fs\n",
    "import socceraction.xthreat as xthreat"
   ]
  },
  {
   "cell_type": "code",
   "execution_count": 2,
   "metadata": {},
   "outputs": [
    {
     "data": {
      "text/plain": [
       "'2.3.0'"
      ]
     },
     "execution_count": 2,
     "metadata": {},
     "output_type": "execute_result"
    }
   ],
   "source": [
    "import tensorflow as tf\n",
    "tf.__version__"
   ]
  },
  {
   "cell_type": "code",
   "execution_count": 3,
   "metadata": {},
   "outputs": [],
   "source": [
    "## Configure file and folder names, use SPADL format.\n",
    "datafolder = \"../data-fifa\"\n",
    "spadl_h5 = os.path.join(datafolder,\"spadl-statsbomb.h5\")"
   ]
  },
  {
   "cell_type": "code",
   "execution_count": 4,
   "metadata": {},
   "outputs": [
    {
     "name": "stdout",
     "output_type": "stream",
     "text": [
      "nb of games: 64\n"
     ]
    }
   ],
   "source": [
    "## Select games\n",
    "games = pd.read_hdf(spadl_h5,\"games\")\n",
    "games = games[games.competition_name == \"FIFA World Cup\"]\n",
    "print(\"nb of games:\", len(games))\n",
    "\n",
    "actiontypes = pd.read_hdf(spadl_h5, \"actiontypes\")\n",
    "bodyparts = pd.read_hdf(spadl_h5, \"bodyparts\")\n",
    "results = pd.read_hdf(spadl_h5, \"results\")\n",
    "players = pd.read_hdf(spadl_h5, \"players\")\n",
    "players[\"player_name\"] = players[[\"player_nickname\",\"player_name\"]].apply(lambda x: x[0] if x[0] else x[1],axis=1)"
   ]
  },
  {
   "cell_type": "code",
   "execution_count": 5,
   "metadata": {},
   "outputs": [
    {
     "name": "stderr",
     "output_type": "stream",
     "text": [
      "100%|██████████████████████████████████████████████████████████████████████████████████| 64/64 [00:04<00:00, 12.82it/s]\n"
     ]
    }
   ],
   "source": [
    "## Read in all actions of games\n",
    "A = []\n",
    "\n",
    "for game in tqdm.tqdm(list(games.itertuples())):\n",
    "    actions = pd.read_hdf(spadl_h5,f\"actions/game_{game.game_id}\")\n",
    "    actions = (\n",
    "        actions.merge(actiontypes,how=\"left\")\n",
    "        .merge(results,how=\"left\")\n",
    "        .merge(bodyparts,how=\"left\")\n",
    "        #.sort_values([\"period_id\", \"time_seconds\", \"timestamp\"])\n",
    "        .reset_index(drop=True)\n",
    "    )\n",
    "    [actions] = fs.play_left_to_right([actions],game.home_team_id)\n",
    "        \n",
    "    A.append(actions) \n",
    "    \n",
    "A = pd.concat(A).reset_index(drop = True)"
   ]
  },
  {
   "cell_type": "code",
   "execution_count": 173,
   "metadata": {},
   "outputs": [
    {
     "name": "stdout",
     "output_type": "stream",
     "text": [
      "(array([0, 1]), array([1427,  129], dtype=int64))\n"
     ]
    },
    {
     "data": {
      "text/plain": [
       "[<matplotlib.lines.Line2D at 0x2575657d7c0>]"
      ]
     },
     "execution_count": 173,
     "metadata": {},
     "output_type": "execute_result"
    },
    {
     "data": {
      "image/png": "[encoded data removed]",
      "text/plain": [
       "<Figure size 432x288 with 1 Axes>"
      ]
     },
     "metadata": {
      "needs_background": "light"
     },
     "output_type": "display_data"
    }
   ],
   "source": [
    "import matplotlib.pyplot as plt\n",
    "\n",
    "shots = A[(A.type_name=='shot') & (A.result_id < 2)]\n",
    "x = shots['start_x'].to_numpy().reshape(-1,1)\n",
    "y = shots['result_id'].to_numpy()\n",
    "plt.scatter(x, y)\n",
    "\n",
    "from sklearn.linear_model import LogisticRegression\n",
    "from sklearn.svm import SVC\n",
    "from sklearn.tree import DecisionTreeClassifier\n",
    "\n",
    "cell_width = (105 / 16)\n",
    "clf1 = DecisionTreeClassifier()\n",
    "clf1.fit(x // cell_width, y)\n",
    "\n",
    "clf2 = LogisticRegression()\n",
    "clf2.fit(x, y)\n",
    "\n",
    "clf3 = SVC(gamma=0.01, probability=True)\n",
    "clf3.fit(x, y)\n",
    "\n",
    "print(np.unique(y, return_counts=True))\n",
    "\n",
    "x = np.linspace(50,105,105).reshape(-1,1)\n",
    "plt.plot(x, clf1.predict_proba(x // cell_width)[:,1], 'g')\n",
    "plt.plot(x, clf2.predict_proba(x)[:,1], 'r')\n",
    "# plt.plot(x, clf3.predict_proba(x)[:,1], 'b')"
   ]
  },
  {
   "cell_type": "code",
   "execution_count": 198,
   "metadata": {
    "scrolled": true
   },
   "outputs": [
    {
     "data": {
      "text/plain": [
       "<matplotlib.image.AxesImage at 0x25751bf83a0>"
      ]
     },
     "execution_count": 198,
     "metadata": {},
     "output_type": "execute_result"
    },
    {
     "data": {
      "image/png": "[encoded data removed]",
      "text/plain": [
       "<Figure size 432x288 with 1 Axes>"
      ]
     },
     "metadata": {
      "needs_background": "light"
     },
     "output_type": "display_data"
    }
   ],
   "source": [
    "import matplotlib.pyplot as plt\n",
    "\n",
    "shots = A[(A.type_name=='shot') & (A.result_id < 2)]\n",
    "x = shots[['start_x','start_y']].to_numpy()\n",
    "y = shots['result_id'].to_numpy()\n",
    "# plt.scatter(x[:,0], x[:,1], s = 1, c = y)\n",
    "\n",
    "cell_width = (105 / 16)\n",
    "cell_height = (60 / 12)\n",
    "clf1 = DecisionTreeClassifier()\n",
    "clf1.fit(x // [cell_width, cell_height], y)\n",
    "\n",
    "from sklearn.preprocessing import PolynomialFeatures\n",
    "from sklearn.pipeline import make_pipeline\n",
    "\n",
    "clf2 = make_pipeline(PolynomialFeatures(2), LogisticRegression())\n",
    "clf2.fit(x, y)\n",
    "\n",
    "x = np.arange(50,105)\n",
    "y = np.arange(0,60)\n",
    "a, b = np.meshgrid(x, y)\n",
    "\n",
    "z1 = clf1.predict_proba(np.c_[a.ravel(), b.ravel()] // [cell_width, cell_height])[:,1].reshape(a.shape)\n",
    "z2 = clf2.predict_proba(np.c_[a.ravel(), b.ravel()])[:,1].reshape(a.shape)\n",
    "\n",
    "plt.imshow(z1, cmap='hot', interpolation='nearest')"
   ]
  },
  {
   "cell_type": "code",
   "execution_count": 199,
   "metadata": {},
   "outputs": [
    {
     "data": {
      "text/plain": [
       "<matplotlib.image.AxesImage at 0x2575612afa0>"
      ]
     },
     "execution_count": 199,
     "metadata": {},
     "output_type": "execute_result"
    },
    {
     "data": {
      "image/png": "[encoded data removed]",
      "text/plain": [
       "<Figure size 432x288 with 1 Axes>"
      ]
     },
     "metadata": {
      "needs_background": "light"
     },
     "output_type": "display_data"
    }
   ],
   "source": [
    "plt.imshow(z2, cmap='hot', interpolation='nearest')"
   ]
  },
  {
   "cell_type": "code",
   "execution_count": 85,
   "metadata": {},
   "outputs": [
    {
     "data": {
      "text/plain": [
       "array([[0, 3],\n",
       "       [1, 3]], dtype=int32)"
      ]
     },
     "execution_count": 85,
     "metadata": {},
     "output_type": "execute_result"
    }
   ],
   "source": [
    "np.array([[2,6],[7,7]]) // [5,2]"
   ]
  },
  {
   "cell_type": "code",
   "execution_count": null,
   "metadata": {},
   "outputs": [],
   "source": []
  }
 ],
 "metadata": {
  "kernelspec": {
   "display_name": "tf2",
   "language": "python",
   "name": "tf2"
  },
  "language_info": {
   "codemirror_mode": {
    "name": "ipython",
    "version": 3
   },
   "file_extension": ".py",
   "mimetype": "text/x-python",
   "name": "python",
   "nbconvert_exporter": "python",
   "pygments_lexer": "ipython3",
   "version": "3.8.5"
  }
 },
 "nbformat": 4,
 "nbformat_minor": 4
}
